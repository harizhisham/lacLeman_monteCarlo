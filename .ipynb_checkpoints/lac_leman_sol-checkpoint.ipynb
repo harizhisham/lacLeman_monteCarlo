{
 "cells": [
  {
   "cell_type": "code",
   "execution_count": 1,
   "metadata": {},
   "outputs": [
    {
     "name": "stdout",
     "output_type": "stream",
     "text": [
      "Populating the interactive namespace from numpy and matplotlib\n"
     ]
    }
   ],
   "source": [
    "%pylab inline\n",
    "import os\n",
    "import pandas as pd\n",
    "import seaborn as sns"
   ]
  },
  {
   "cell_type": "code",
   "execution_count": 2,
   "metadata": {},
   "outputs": [],
   "source": [
    "path = 'C:/Users/mohdh/Documents/MSBA/Time Series/hbs_cases/lac_leman/'  ## Your path"
   ]
  },
  {
   "cell_type": "code",
   "execution_count": 3,
   "metadata": {},
   "outputs": [],
   "source": [
    "# Raw data load\n",
    "a1 = pd.read_csv(path + 'A_1.csv', index_col = False)\n",
    "a2 = pd.read_csv(path + 'A_2.csv', index_col = False)\n",
    "b1 = pd.read_csv(path + 'B_1.csv', index_col = False)"
   ]
  },
  {
   "cell_type": "markdown",
   "metadata": {},
   "source": [
    "__Introduction__"
   ]
  },
  {
   "cell_type": "markdown",
   "metadata": {},
   "source": [
    "Carla Monte, director of the Lac Leman Festival de la Musique (or more popularly, the Montreaux Jazz Festival in Switzerland), is faced with a dilemma.\n",
    "\n",
    "The festival's contract allows her team to record and sell recordings of the musicians' performances. In a perfect world, this would be ideal for the Festival, as they can continue selling the recordings to the public indefinitely.\n",
    "\n",
    "Here's the catch: the contract allows her team to __only sell the recordings on-site at the festival__. Any leftover DVDs are not allowed to be sold elsewhere and deemed worthless.\n",
    "\n",
    "To Monte's team, this poses a risky business decision - should they invest in DVD production of the festival? Will there be enough festival-goers buying the DVDs? If so, how many should they produce to minimize production costs?"
   ]
  },
  {
   "cell_type": "markdown",
   "metadata": {},
   "source": [
    "__Background__"
   ]
  },
  {
   "cell_type": "markdown",
   "metadata": {},
   "source": [
    "Here are the facts:\n",
    "\n",
    "- The festival has been running for 15 years prior to this year's. Monte's team has attendance AND weather data for each of those years.\n",
    "- The festival runs over 2 days:\n",
    "    - If greenlighted, the team will record Friday evening's show. A production team will work overnight to produce the DVDs.\n",
    "    - DVDs will be sold at the festival on Saturday prior to the day's show.\n",
    "- DVD production is split into two cost structures: fixed startup costs and variable per unit costs.\n",
    "    - Fixed costs:\n",
    "        - bla\n",
    "    - Variable costs:\n",
    "        - dvds\n",
    "- Any unsold DVDs cannot be sold after the festival and are destroyed (essentially worthless).\n",
    "- Surveys have been conducted to estimate the likelihood of festival attendees purchasing the DVDs.\n",
    "- For the nerds:\n",
    "    - Probability distribution of events w.r.t. this case are assumed to be non-Gaussian.\n"
   ]
  },
  {
   "cell_type": "markdown",
   "metadata": {},
   "source": [
    "__Q1 Putting the FUN in functions__"
   ]
  },
  {
   "cell_type": "markdown",
   "metadata": {},
   "source": [
    "The assumed scenario:<br><br>\n",
    "Saturday attendance: 24139<br> \n",
    "Prop. of attendees who will purchase DVDs: 18.92%<br>\n",
    "DVDs produced: 4500<br>"
   ]
  },
  {
   "cell_type": "code",
   "execution_count": 4,
   "metadata": {},
   "outputs": [],
   "source": [
    "def dvd_cost(units):\n",
    "    # ------\n",
    "    # Input: units of dvds produced.\n",
    "    # \n",
    "    # Where used: produce_dvd()\n",
    "    #\n",
    "    # Output: total cost of dvd production\n",
    "    # ------\n",
    "    assert units >= 0\n",
    "    try:\n",
    "        per_unit = 0.86\n",
    "        add_per_unit = 1.06\n",
    "        total_cost = 0\n",
    "        \n",
    "        if units > 5300:\n",
    "            add_units = units - 5300\n",
    "            total_cost = 5300 * per_unit\n",
    "            total_cost += add_units * add_per_unit\n",
    "            return total_cost\n",
    "        else:\n",
    "            total_cost = units * per_unit\n",
    "            return total_cost         \n",
    "    except:\n",
    "        print('Error encountered in calculating DVD unit costs.')\n",
    "\n",
    "def dvd_sales(units = 0, price = 18.0):\n",
    "    assert units >= 0    \n",
    "    total_sales = 0\n",
    "    dvd_royalty = 1.02\n",
    "    \n",
    "    try:\n",
    "        if units > 0:\n",
    "            total_sales = units * (price - dvd_royalty)\n",
    "            return total_sales\n",
    "        else:\n",
    "            return total_sales        \n",
    "    except:\n",
    "        print('Error encountered in calculating DVD sales.')\n",
    "\n",
    "def produce_dvd(units = 0, switch = False):\n",
    "    assert units >= 0\n",
    "    fee = 11740\n",
    "    master = 3000\n",
    "    setup = 1250\n",
    "    total_cost = 0\n",
    "    \n",
    "    try:\n",
    "        if switch & (units > 0):\n",
    "            total_cost = fee + master + setup + dvd_cost(units)\n",
    "            return total_cost\n",
    "        else:\n",
    "            return total_cost\n",
    "    except:\n",
    "        print('Error encountered in calculating DVD production costs.')\n",
    "        "
   ]
  },
  {
   "cell_type": "code",
   "execution_count": 5,
   "metadata": {},
   "outputs": [],
   "source": [
    "def p_l_calculate(actual_demand, forecast_supply, switch = True):\n",
    "    ####\n",
    "    # Input: demand, production supply, optional switch\n",
    "    #\n",
    "    # Where used: Everywhere in this notebook\n",
    "    #\n",
    "    # Output: gross margin of dvd production  \n",
    "    ####\n",
    "    if forecast_supply > 0:\n",
    "        switch = True\n",
    "    \n",
    "    if actual_demand > forecast_supply:\n",
    "        actual_demand = forecast_supply\n",
    "    \n",
    "    gross_margin = dvd_sales(actual_demand) - produce_dvd(forecast_supply, switch)\n",
    "    \n",
    "    return int(gross_margin)"
   ]
  },
  {
   "cell_type": "code",
   "execution_count": 6,
   "metadata": {},
   "outputs": [
    {
     "name": "stdout",
     "output_type": "stream",
     "text": [
      "In a perfect scenario, the festival would make SFr 56550 in DVD sale profits.\n"
     ]
    }
   ],
   "source": [
    "profits = p_l_calculate(24139*0.1892, 4500)\n",
    "\n",
    "print('In a perfect scenario, the festival would make SFr ' +\\\n",
    "     str(profits) + ' in DVD sale profits.')"
   ]
  },
  {
   "cell_type": "markdown",
   "metadata": {},
   "source": [
    "__Q2 Forecasting Saturday's attendance__"
   ]
  },
  {
   "cell_type": "markdown",
   "metadata": {},
   "source": [
    "Let's first take a peek at what historical attendance looks like."
   ]
  },
  {
   "cell_type": "code",
   "execution_count": 8,
   "metadata": {},
   "outputs": [
    {
     "data": {
      "image/png": "[encoded data removed]",
      "text/plain": [
       "<Figure size 432x288 with 1 Axes>"
      ]
     },
     "metadata": {
      "needs_background": "light"
     },
     "output_type": "display_data"
    },
    {
     "name": "stdout",
     "output_type": "stream",
     "text": [
      "14-year mean: 24138.67\n",
      "14-year standard deviation: 10450.88\n"
     ]
    }
   ],
   "source": [
    "sat_hist = a1['Saturday Attendance'].copy()\n",
    "sat_hist.plot()\n",
    "pyplot.show()\n",
    "print('14-year mean: ' + str(round(numpy.mean(sat_hist.tolist()),2)))\n",
    "print('14-year standard deviation: ' + str(round(numpy.std(sat_hist.tolist()),2)))"
   ]
  },
  {
   "cell_type": "markdown",
   "metadata": {},
   "source": [
    "Okay, so we can now see that Saturday attendance varies pretty wildly each year. If only we could use auxilliary data to investigate these changes..."
   ]
  },
  {
   "cell_type": "markdown",
   "metadata": {},
   "source": [
    "We'll first split the dataset into training and testing sets to minimize forward leakage of information:"
   ]
  },
  {
   "cell_type": "code",
   "execution_count": null,
   "metadata": {},
   "outputs": [],
   "source": [
    "from sklearn.model_selection import train_test_split\n",
    "\n",
    "test_prop = 0.3\n",
    "test_size = int(round(test_prop * len(sat_hist), 0))\n",
    "\n",
    "train, test = train_test_split(sat_hist,\n",
    "                               test_size = test_prop,\n",
    "                               shuffle = False)\n",
    "\n",
    "if test_size < len(test):\n",
    "    test_size = len(test)"
   ]
  },
  {
   "cell_type": "markdown",
   "metadata": {},
   "source": [
    "Next, we will simulate Saturday's attendance over 1000 iterations, using the calculated mean and std dev of the training set:"
   ]
  },
  {
   "cell_type": "code",
   "execution_count": null,
   "metadata": {},
   "outputs": [],
   "source": [
    "result = []\n",
    "\n",
    "sim = 1000\n",
    "attendance = train.iloc[-1]\n",
    "mu = numpy.mean(train)\n",
    "sigma = numpy.std(train)\n",
    "\n",
    "for i in range(0,sim):\n",
    "    ann_sat_att = max(np.random.normal(mu,sigma,1)[0], 0)\n",
    "    result.append(ann_sat_att)\n",
    "    \n",
    "plt.hist(result, bins = 25)\n",
    "plt.show()\n",
    "print(array(test))"
   ]
  },
  {
   "cell_type": "markdown",
   "metadata": {},
   "source": [
    "Given the 10 year mean and std. dev. of Saturday attendance, here's what the distribution looks like. When we compare that distribution to the last 5 years of attendance, it looks like the attendance numbers for the last 5 years fall within 1 SD of our distribution."
   ]
  },
  {
   "cell_type": "markdown",
   "metadata": {},
   "source": [
    "Next, we'll forecast this year's Saturday attendance using historical data. Given that we're only using past years' attendance to forecast this year's, we'll be doing it graphically. \n",
    "\n",
    "Drift method\n",
    "\n",
    "Credit: Dan Trepanier, _1.1 Forecast Lecture_"
   ]
  },
  {
   "cell_type": "code",
   "execution_count": null,
   "metadata": {},
   "outputs": [],
   "source": [
    "Y = np.array(train.tolist())\n",
    "X = np.array(range(len(Y)))\n",
    "Y_act = np.array(test.tolist()[:test_size])\n",
    "\n",
    "# y = m * x + b\n",
    "m = (Y[-1] - Y[0]) / (X[-1] - X[0])\n",
    "b = Y[0]\n",
    "\n",
    "X_hat = np.array(range(len(Y) + test_size))\n",
    "Y_hat = m * X_hat + b\n",
    "\n",
    "Y_all = np.concatenate((Y,Y_act), axis=0)\n",
    "drift = round(m * (len(Y_all) + 1) + b, 0)\n",
    "\n",
    "(low,high) = (min(Y_all), max(Y_all))\n",
    "(left, right) = (max(X) + 1, max(X_hat) + 1)\n",
    "\n",
    "plt.plot(X,Y, color='b', label='training data')\n",
    "plt.plot(X_hat, Y_hat, color='g', label='drift method')\n",
    "plt.plot(X_hat[-test_size:], Y_act,color='r', label='actual')\n",
    "plt.fill_between(range(left,right), low,high, facecolor='k', alpha=.3)\n",
    "plt.legend()\n",
    "plt.title('Attendance Forecast - Drift Method')\n",
    "plt.show()"
   ]
  },
  {
   "cell_type": "markdown",
   "metadata": {},
   "source": [
    "Log Regression Method\n",
    "\n",
    "Credit: Dan Trepanier, _1.1 Forecast Lecture_"
   ]
  },
  {
   "cell_type": "code",
   "execution_count": null,
   "metadata": {},
   "outputs": [],
   "source": [
    "from scipy import stats\n",
    "\n",
    "Y_train_log = np.log(train)\n",
    "X_train = np.array(range(len(Y_train_log)))\n",
    "\n",
    "# y = m * x + b\n",
    "(m, b, r_value, p_value, std_err) = stats.linregress(X_train,Y_train_log)\n",
    "\n",
    "X_hat = np.array(range(len(Y_train_log) + test_size))\n",
    "Y_log_hat = m * X_hat + b\n",
    "Y_act_log = np.log(test[:test_size])\n",
    "\n",
    "Y_all = np.concatenate((Y_train_log,Y_act_log), axis=0)\n",
    "(low_log,high_log) = (min(log(Y_all)), max(log(Y_all)))\n",
    "(left, right) = (max(X) + 1, max(X_hat) + 1)\n",
    "\n",
    "Y_hat = np.exp(Y_log_hat)\n",
    "loglinear = round(exp(m * (len(Y_all) + 1) + b),0)\n",
    "\n",
    "plt.plot(X,Y, color='b', label='training data')\n",
    "plt.plot(X_hat, Y_hat, color='g', label='regression')\n",
    "plt.plot(X_hat[-test_size:], Y_act, color='r', label='actual')\n",
    "plt.fill_between(range(left,right), low, high, facecolor='k', alpha=.3)\n",
    "plt.legend()\n",
    "plt.title('Attendance Forecast - log-linear method')\n",
    "plt.show()"
   ]
  },
  {
   "cell_type": "code",
   "execution_count": null,
   "metadata": {},
   "outputs": [],
   "source": [
    "drift_sim = []\n",
    "\n",
    "for i in range(1000):\n",
    "    drift_sim.append(np.random.normal(drift, sigma, size = 1))\n",
    "    \n",
    "np.mean(drift_sim)"
   ]
  },
  {
   "cell_type": "code",
   "execution_count": null,
   "metadata": {
    "scrolled": true
   },
   "outputs": [],
   "source": [
    "ranj = drift, loglinear\n",
    "\n",
    "print('Attendance for this year\\'s festival will range between ' +\\\n",
    "     str(min(ranj)) + ' and ' + str(max(ranj)) + ' attendees.')"
   ]
  },
  {
   "cell_type": "markdown",
   "metadata": {},
   "source": [
    "__Q3 It's hip to be square (with everyone else)__"
   ]
  },
  {
   "cell_type": "markdown",
   "metadata": {},
   "source": [
    "Probability distribution of historical attendance"
   ]
  },
  {
   "cell_type": "code",
   "execution_count": null,
   "metadata": {},
   "outputs": [],
   "source": [
    "sns.distplot(sat_hist, hist=True, kde=True, \n",
    "             bins = 10, color = 'darkblue', \n",
    "             hist_kws={'edgecolor':'black'},\n",
    "             kde_kws={'linewidth': 4})"
   ]
  },
  {
   "cell_type": "code",
   "execution_count": null,
   "metadata": {},
   "outputs": [],
   "source": [
    "from scipy.stats import norm\n",
    "mean = round(numpy.mean(sat_hist),2)\n",
    "standard_deviation = round(numpy.std(sat_hist),2)\n",
    "normal_distribution = norm(loc = mean, scale = standard_deviation)\n",
    "x = numpy.linspace(0, 80000)\n",
    "_, ax = plt.subplots(1, 1)\n",
    "ax.plot(x, normal_distribution.pdf(x), '-', lw = 2)\n",
    "plt.title('Normal distribution with mean = ' + str(mean) +\\\n",
    "          ' and standard deviation = ' + str(standard_deviation))\n",
    "plt.show()"
   ]
  },
  {
   "cell_type": "code",
   "execution_count": null,
   "metadata": {},
   "outputs": [],
   "source": [
    "# sample mean = 0.1892\n",
    "# n = 37\n",
    "# Individual stdev = 0.3917 \n",
    "# What is sample stdev?"
   ]
  },
  {
   "cell_type": "markdown",
   "metadata": {},
   "source": [
    "Given that we know the sample size of n = 37, the sample mean of 18.92%, and population standard deviation of 39.17%, we can derive the sample standard deviation using the formula below:\n",
    "\n",
    "\\begin{equation*}\n",
    "\\sigma_M = \\frac{\\sigma} {\\sqrt{n}}\n",
    "\\end{equation*}"
   ]
  },
  {
   "cell_type": "code",
   "execution_count": null,
   "metadata": {},
   "outputs": [],
   "source": [
    "s_sigma = 0.3917 / sqrt(37)"
   ]
  },
  {
   "cell_type": "code",
   "execution_count": null,
   "metadata": {},
   "outputs": [],
   "source": [
    "def sample_sigma(n = 1, sigma = 0):\n",
    "    s_sigma = None\n",
    "    assert n > 0\n",
    "    assert sigma >= 0\n",
    "    try:\n",
    "        s_sigma = sigma / sqrt(n)\n",
    "        return round(s_sigma,4)\n",
    "    except:\n",
    "        print('WRONG!')"
   ]
  },
  {
   "cell_type": "code",
   "execution_count": null,
   "metadata": {},
   "outputs": [],
   "source": [
    "s_sigma = sample_sigma(37, 0.3917)\n",
    "print('Sample standard deviation for given sample size: ' + str(s_sigma))"
   ]
  },
  {
   "cell_type": "markdown",
   "metadata": {},
   "source": [
    "__Q4 Who'll stop the rain?__"
   ]
  },
  {
   "cell_type": "code",
   "execution_count": null,
   "metadata": {},
   "outputs": [],
   "source": [
    "y = b1['Saturday Attendance'].tolist()\n",
    "X = b1.iloc[:,1:-1].values.tolist()\n",
    "\n",
    "X_train, X_test,\\\n",
    "y_train, y_test = train_test_split(X, y, test_size = test_size,\n",
    "                                   random_state=42,\n",
    "                                   shuffle = False)"
   ]
  },
  {
   "cell_type": "markdown",
   "metadata": {},
   "source": [
    "Credit: Sanjiv Das, _6 Linear Regression_"
   ]
  },
  {
   "cell_type": "code",
   "execution_count": null,
   "metadata": {},
   "outputs": [],
   "source": [
    "import statsmodels.api as sm\n",
    "from statsmodels.regression.linear_model import OLS as linear\n",
    "import statsmodels.formula.api as smf\n",
    "from statsmodels.compat import lzip\n",
    "\n",
    "X_hat = sm.add_constant(X_train, prepend=True)\n",
    "results = linear(y_train, X_hat).fit()\n",
    "\n",
    "print(results.summary())"
   ]
  },
  {
   "cell_type": "code",
   "execution_count": null,
   "metadata": {},
   "outputs": [],
   "source": [
    "model_fitted_y = results.fittedvalues\n",
    "model_resid = results.resid\n",
    "model_norm_resid = results.get_influence().resid_studentized_internal\n",
    "model_norm_residuals_abs_sqrt = np.sqrt(np.abs(model_norm_resid))\n",
    "model_abs_resid = np.abs(model_resid)\n",
    "model_leverage = results.get_influence().hat_matrix_diag\n",
    "model_cooks = results.get_influence().cooks_distance[0]\n",
    "\n",
    "plot_lm_1 = plt.figure()\n",
    "plot_lm_1.axes[0] = sns.residplot(model_fitted_y, sat_hist.iloc[:10], data = sat_hist,\n",
    "                          lowess = True,\n",
    "                          scatter_kws={'alpha': 0.5},\n",
    "                          line_kws={'color': 'red', 'lw': 1, 'alpha': 0.8})\n",
    "                                    \n",
    "plot_lm_1.axes[0].set_title('Residuals vs Fitted')\n",
    "plot_lm_1.axes[0].set_xlabel('Fitted values')\n",
    "plot_lm_1.axes[0].set_ylabel('Residuals');"
   ]
  },
  {
   "cell_type": "code",
   "execution_count": null,
   "metadata": {},
   "outputs": [],
   "source": [
    "from statsmodels.graphics.gofplots import ProbPlot\n",
    "\n",
    "QQ = ProbPlot(model_norm_resid)\n",
    "plot_lm_2 = QQ.qqplot(line='45', alpha=0.5, color='#4C72B0', lw=1)\n",
    "plot_lm_2.axes[0].set_title('Normal Q-Q')\n",
    "plot_lm_2.axes[0].set_xlabel('Theoretical Quantiles')\n",
    "plot_lm_2.axes[0].set_ylabel('Standardized Residuals');\n",
    "# annotations\n",
    "abs_norm_resid = np.flip(np.argsort(np.abs(model_norm_resid)), 0)"
   ]
  },
  {
   "cell_type": "code",
   "execution_count": null,
   "metadata": {},
   "outputs": [],
   "source": [
    "rain = []\n",
    "fri_att = 18394\n",
    "fri_rain = 0\n",
    "a = results.params[0]\n",
    "b_0 = results.params[1]\n",
    "b_1 = results.params[2]\n",
    "b_2 = results.params[3]\n",
    "\n",
    "for i in range(0,1000):\n",
    "    p_rain = np.random.normal(0.8, sqrt(0.8*0.2),1)[0]\n",
    "    \n",
    "    if p_rain >= 1:\n",
    "        res = a + b_0 * fri_rain + b_1 * fri_att + b_2 * p_rain\n",
    "        rain.append(res)\n",
    "    else:\n",
    "        res = a + b_0 * fri_rain + b_1 * fri_att + b_2 * p_rain\n",
    "        rain.append(res)"
   ]
  },
  {
   "cell_type": "code",
   "execution_count": null,
   "metadata": {
    "scrolled": true
   },
   "outputs": [],
   "source": [
    "plt.hist(rain,bins = 25)\n",
    "plt.show()"
   ]
  },
  {
   "cell_type": "code",
   "execution_count": null,
   "metadata": {},
   "outputs": [],
   "source": [
    "np.mean(y_train) - np.std(y_train), np.mean(y_train) + np.std(y_train)"
   ]
  },
  {
   "cell_type": "code",
   "execution_count": null,
   "metadata": {},
   "outputs": [],
   "source": [
    "from yellowbrick.regressor import ResidualsPlot\n",
    "from sklearn.linear_model import LinearRegression\n",
    "\n",
    "model = LinearRegression()\n",
    "\n",
    "visualizer = ResidualsPlot(model)\n",
    "\n",
    "visualizer.fit(X_train, y_train)  # Fit the training data to the visualizer\n",
    "visualizer.score(X_test, y_test)  # Evaluate the model on the test data\n",
    "visualizer.show()                 # Finalize and render the figure\n",
    "plt.show()"
   ]
  },
  {
   "cell_type": "markdown",
   "metadata": {},
   "source": [
    "__Q5 Profit simulations__"
   ]
  },
  {
   "cell_type": "code",
   "execution_count": null,
   "metadata": {},
   "outputs": [],
   "source": [
    "def simulate_profits(dvd_produced, n, mu, sigma, attendance_sim):\n",
    "    assert dvd_produced > 0\n",
    "    \n",
    "    try:\n",
    "        demand_sim = []\n",
    "        profits = []\n",
    "        attendance = []\n",
    "        (lower, upper) = mu - sigma, mu + sigma\n",
    "        in_range = []\n",
    "\n",
    "        for i in range(n):\n",
    "            sat_att_sim = max(np.random.choice(attendance_sim), 0)\n",
    "            mu_sim = max(np.random.normal(mu, sigma), 0)\n",
    "            if (mu_sim > lower) & (mu_sim < upper):\n",
    "                in_range.append(1)\n",
    "            else:\n",
    "                in_range.append(0)\n",
    "                                   \n",
    "            demand_res = sat_att_sim * mu_sim\n",
    "            demand_sim.append(demand_res)\n",
    "            profits.append(p_l_calculate(demand_res, dvd_produced))\n",
    "            attendance.append(sat_att_sim)\n",
    "            \n",
    "        rec = list(zip(demand_sim, attendance, profits, in_range))\n",
    "\n",
    "        plt.hist(profits, bins = 50)\n",
    "        return rec\n",
    "    \n",
    "    except:\n",
    "        print('Profit simulation failed.')\n",
    "    \n",
    "    return None"
   ]
  },
  {
   "cell_type": "code",
   "execution_count": null,
   "metadata": {},
   "outputs": [],
   "source": [
    "money = simulate_profits(4500, 1000, 0.1892, s_sigma, rain)"
   ]
  },
  {
   "cell_type": "code",
   "execution_count": null,
   "metadata": {},
   "outputs": [],
   "source": [
    "test_df = pd.DataFrame(money, columns = ['Act Dd', 'Attn', 'Profits', 'In Range'])"
   ]
  },
  {
   "cell_type": "code",
   "execution_count": null,
   "metadata": {},
   "outputs": [],
   "source": [
    "test_df['Loss'] = test_df['Profits'] < 0\n",
    "test_df['Loss'].sum() / len(test_df)"
   ]
  },
  {
   "cell_type": "markdown",
   "metadata": {},
   "source": [
    "__Q6 Grab that cash with both hands and make a stash__"
   ]
  },
  {
   "cell_type": "code",
   "execution_count": null,
   "metadata": {},
   "outputs": [],
   "source": [
    "sim_mean = test_df['Act Dd'].mean()"
   ]
  },
  {
   "cell_type": "code",
   "execution_count": null,
   "metadata": {},
   "outputs": [],
   "source": [
    "money = simulate_profits(sim_mean, 1000, 0.1892, s_sigma, rain)"
   ]
  },
  {
   "cell_type": "code",
   "execution_count": null,
   "metadata": {},
   "outputs": [],
   "source": [
    "test_df_2 = pd.DataFrame(money, columns = ['Act Dd', 'Attn', 'Profits', 'In Range'])"
   ]
  },
  {
   "cell_type": "code",
   "execution_count": null,
   "metadata": {},
   "outputs": [],
   "source": [
    "test_df_2['Loss'] = test_df_2['Profits'] < 0\n",
    "loss_rate = test_df_2['Loss'].sum() / len(test_df_2)"
   ]
  },
  {
   "cell_type": "code",
   "execution_count": null,
   "metadata": {},
   "outputs": [],
   "source": [
    "print('By producing ' + str(int(round(sim_mean,0))) +\\\n",
    "     ' DVDs, Carla\\'s team will be profitable with ' +\\\n",
    "     str(1 - loss_rate) + ' probability.')"
   ]
  },
  {
   "cell_type": "markdown",
   "metadata": {},
   "source": [
    "__Q7 Value Add__"
   ]
  },
  {
   "cell_type": "code",
   "execution_count": null,
   "metadata": {},
   "outputs": [],
   "source": [
    "#WIP"
   ]
  },
  {
   "cell_type": "markdown",
   "metadata": {},
   "source": [
    "__Recommendations__\n",
    "\n",
    "- Carla Monte should invest in the producing the DVDs.\n",
    "- The team should produce ~ 3650 copies of DVDs to sell on Saturday.\n",
    "    - This will maximize profits as wasted DVDs are minimized.\n",
    "- Probability of losses are low - will breakeven with 97.7% probability."
   ]
  },
  {
   "cell_type": "code",
   "execution_count": null,
   "metadata": {},
   "outputs": [],
   "source": []
  }
 ],
 "metadata": {
  "kernelspec": {
   "display_name": "Python 3",
   "language": "python",
   "name": "python3"
  },
  "language_info": {
   "codemirror_mode": {
    "name": "ipython",
    "version": 3
   },
   "file_extension": ".py",
   "mimetype": "text/x-python",
   "name": "python",
   "nbconvert_exporter": "python",
   "pygments_lexer": "ipython3",
   "version": "3.7.4"
  }
 },
 "nbformat": 4,
 "nbformat_minor": 4
}
